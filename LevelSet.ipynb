{
  "nbformat": 4,
  "nbformat_minor": 0,
  "metadata": {
    "colab": {
      "name": "LevelSet.ipynb",
      "provenance": [],
      "collapsed_sections": [],
      "mount_file_id": "1UrBD0ocoeP_ak4FAzqXpdDLT-B1oxbJ-",
      "authorship_tag": "ABX9TyNZOXfKZIH+vTLUMZ5ZeJ4N",
      "include_colab_link": true
    },
    "kernelspec": {
      "name": "python3",
      "display_name": "Python 3"
    },
    "language_info": {
      "name": "python"
    }
  },
  "cells": [
    {
      "cell_type": "markdown",
      "metadata": {
        "id": "view-in-github",
        "colab_type": "text"
      },
      "source": [
        "<a href=\"https://colab.research.google.com/github/AminPA/Matlab2020-10/blob/main/LevelSet.ipynb\" target=\"_parent\"><img src=\"https://colab.research.google.com/assets/colab-badge.svg\" alt=\"Open In Colab\"/></a>"
      ]
    },
    {
      "cell_type": "code",
      "metadata": {
        "id": "NQlw6CJC1Nvu",
        "colab": {
          "base_uri": "https://localhost:8080/"
        },
        "outputId": "7f93ab5e-9b2a-40d4-cc3c-b30e6c489af3"
      },
      "source": [
        "pip install lsml"
      ],
      "execution_count": null,
      "outputs": [
        {
          "output_type": "stream",
          "text": [
            "Requirement already satisfied: lsml in /usr/local/lib/python3.7/dist-packages (0.0.1)\n",
            "Requirement already satisfied: scikit-image in /usr/local/lib/python3.7/dist-packages (from lsml) (0.16.2)\n",
            "Requirement already satisfied: scikit-learn in /usr/local/lib/python3.7/dist-packages (from lsml) (0.22.2.post1)\n",
            "Requirement already satisfied: scikit-fmm in /usr/local/lib/python3.7/dist-packages (from lsml) (2021.2.2)\n",
            "Requirement already satisfied: matplotlib in /usr/local/lib/python3.7/dist-packages (from lsml) (3.2.2)\n",
            "Requirement already satisfied: numpy in /usr/local/lib/python3.7/dist-packages (from lsml) (1.19.5)\n",
            "Requirement already satisfied: scipy in /usr/local/lib/python3.7/dist-packages (from lsml) (1.4.1)\n",
            "Requirement already satisfied: h5py in /usr/local/lib/python3.7/dist-packages (from lsml) (2.10.0)\n",
            "Requirement already satisfied: imageio>=2.3.0 in /usr/local/lib/python3.7/dist-packages (from scikit-image->lsml) (2.4.1)\n",
            "Requirement already satisfied: pillow>=4.3.0 in /usr/local/lib/python3.7/dist-packages (from scikit-image->lsml) (7.1.2)\n",
            "Requirement already satisfied: networkx>=2.0 in /usr/local/lib/python3.7/dist-packages (from scikit-image->lsml) (2.5)\n",
            "Requirement already satisfied: PyWavelets>=0.4.0 in /usr/local/lib/python3.7/dist-packages (from scikit-image->lsml) (1.1.1)\n",
            "Requirement already satisfied: joblib>=0.11 in /usr/local/lib/python3.7/dist-packages (from scikit-learn->lsml) (1.0.1)\n",
            "Requirement already satisfied: python-dateutil>=2.1 in /usr/local/lib/python3.7/dist-packages (from matplotlib->lsml) (2.8.1)\n",
            "Requirement already satisfied: pyparsing!=2.0.4,!=2.1.2,!=2.1.6,>=2.0.1 in /usr/local/lib/python3.7/dist-packages (from matplotlib->lsml) (2.4.7)\n",
            "Requirement already satisfied: cycler>=0.10 in /usr/local/lib/python3.7/dist-packages (from matplotlib->lsml) (0.10.0)\n",
            "Requirement already satisfied: kiwisolver>=1.0.1 in /usr/local/lib/python3.7/dist-packages (from matplotlib->lsml) (1.3.1)\n",
            "Requirement already satisfied: six in /usr/local/lib/python3.7/dist-packages (from h5py->lsml) (1.15.0)\n",
            "Requirement already satisfied: decorator>=4.3.0 in /usr/local/lib/python3.7/dist-packages (from networkx>=2.0->scikit-image->lsml) (4.4.2)\n"
          ],
          "name": "stdout"
        }
      ]
    },
    {
      "cell_type": "code",
      "metadata": {
        "colab": {
          "base_uri": "https://localhost:8080/"
        },
        "id": "jDd-8_DbQoLj",
        "outputId": "b41e5df9-8f91-44d5-a29a-a182d8b1e62d"
      },
      "source": [
        "from google.colab import drive\n",
        "drive.mount('/content/gdrive')\n"
      ],
      "execution_count": null,
      "outputs": [
        {
          "output_type": "stream",
          "text": [
            "Drive already mounted at /content/gdrive; to attempt to forcibly remount, call drive.mount(\"/content/gdrive\", force_remount=True).\n"
          ],
          "name": "stdout"
        }
      ]
    },
    {
      "cell_type": "code",
      "metadata": {
        "colab": {
          "base_uri": "https://localhost:8080/"
        },
        "id": "cDnPEJyjk0UA",
        "outputId": "9adf5941-5cb0-467a-f899-82302909ef87"
      },
      "source": [
        "!pip install pydicom\n",
        "import pydicom\n",
        "import matplotlib.pyplot as plt"
      ],
      "execution_count": null,
      "outputs": [
        {
          "output_type": "stream",
          "text": [
            "shell-init: error retrieving current directory: getcwd: cannot access parent directories: Transport endpoint is not connected\n",
            "shell-init: error retrieving current directory: getcwd: cannot access parent directories: Transport endpoint is not connected\n",
            "The folder you are executing pip from can no longer be found.\n"
          ],
          "name": "stdout"
        }
      ]
    },
    {
      "cell_type": "code",
      "metadata": {
        "colab": {
          "base_uri": "https://localhost:8080/"
        },
        "id": "JY88-uW8c74b",
        "outputId": "e7ad8645-412c-4cdd-ea21-931f59fdfe9b"
      },
      "source": [
        "import cv2\n",
        "n_samples = 15\n",
        "DATADIR = '/content/gdrive/MyDrive/Pittsbergh/TestPatientsForAmin/Patient11/ems11diastole/Images'\n",
        "\n",
        "#To read all the photos\n",
        "import glob, os\n",
        "os.chdir(DATADIR)\n",
        "for file in glob.glob(\"*.IMA\"):\n",
        "  imgs = pydicom.read_file(file)\n",
        "\n",
        "imgs.pixel_array.shape\n",
        "# plt.imshow(imgs.pixel_array)\n",
        "# plt.show()"
      ],
      "execution_count": null,
      "outputs": [
        {
          "output_type": "execute_result",
          "data": {
            "text/plain": [
              "(256, 256)"
            ]
          },
          "metadata": {
            "tags": []
          },
          "execution_count": 22
        }
      ]
    },
    {
      "cell_type": "code",
      "metadata": {
        "id": "JruhdXCz4nj6"
      },
      "source": [
        "def read_dicom_series(directory, filepattern=\"*.IMA\"):\n",
        "    \"\"\" Reads a DICOM Series files in the given directory.\n",
        "    Only filesnames matching filepattern will be considered\"\"\"\n",
        "\n",
        "    # print('\\tRead Dicom', directory)\n",
        "    lstFilesDCM = natsort.natsorted(glob.glob(os.path.join(DATADIR, filepattern)))\n",
        "    # print('\\tLength dicom series', len(lstFilesDCM))\n",
        "    # Get ref file\n",
        "    RefDs = dicom.read_file(lstFilesDCM[0])\n",
        "    # RefDs.pixel_array.shape\n",
        "\n",
        "    # Load dimensions based on the number of rows, columns, and slices (along the Z axis)\n",
        "    ConstPixelDims = (int(RefDs.Rows), int(RefDs.Columns), len(lstFilesDCM))\n",
        "    # The array is sized based on 'ConstPixelDims'\n",
        "    ArrayDicom = np.zeros(ConstPixelDims, dtype=RefDs.pixel_array.dtype)\n",
        "\n",
        "    # loop through all the DICOM files\n",
        "    for filenameDCM in lstFilesDCM:\n",
        "        # read the file\n",
        "        ds = dicom.read_file(filenameDCM)\n",
        "        # store the raw image data\n",
        "        ArrayDicom[:, :, lstFilesDCM.index(filenameDCM)] = ds.pixel_array\n",
        "\n",
        "    return ArrayDicom \n",
        "\n"
      ],
      "execution_count": null,
      "outputs": []
    },
    {
      "cell_type": "code",
      "metadata": {
        "id": "VaSDDdzTIjvR"
      },
      "source": [
        "!pip install SimpleITK"
      ],
      "execution_count": null,
      "outputs": []
    },
    {
      "cell_type": "code",
      "metadata": {
        "id": "2EsSh5RXJaK1"
      },
      "source": [
        "import SimpleITK\n",
        "\n",
        "def sitk_show(img, title=None, margin=0.0, dpi=40):\n",
        "    nda = SimpleITK.GetArrayFromImage(img)\n",
        "    # spacing = img.GetSpacing()\n",
        "    figsize = (1 + margin) * nda.shape[0] / dpi, (1 + margin) * nda.shape[1] / dpi\n",
        "    # extent = (0, nda.shape[1]*spacing[1], nda.shape[0]*spacing[0], 0)\n",
        "    extent = (0, nda.shape[1], nda.shape[0], 0)\n",
        "    fig = plt.figure(figsize=figsize, dpi=dpi)\n",
        "    ax = fig.add_axes([margin, margin, 1 - 2 * margin, 1 - 2 * margin])\n",
        " \n",
        "    plt.set_cmap(\"gray\")\n",
        "    ax.imshow(nda, extent=extent, interpolation=None)\n",
        " \n",
        "    if title:\n",
        "        plt.title(title)\n",
        " \n",
        "    plt.show()\n",
        "\n",
        "# Paths to the .mhd files\n",
        "DATADIRS = '/content/gdrive/MyDrive/Pittsbergh/TestPatientsForAmin/Patient11/ems11diastole/Segmnetations.mha'\n",
        "\n",
        " \n",
        "# Slice index to visualize with 'sitk_show'\n",
        "idxSlice = 5\n",
        " \n",
        "# int label to assign to the segmented gray matter\n",
        "labelGrayMatter = 1\n",
        " \n",
        "segs = SimpleITK.ReadImage(DATADIRS)\n",
        "\n",
        "sitk_show(SimpleITK.Tile(segs[:, :, idxSlice],\n",
        "                         segs[:, :, idxSlice],\n",
        "                             (2, 1, 0)))\n",
        "np_segs = SimpleITK.GetArrayFromImage(segs)\n",
        "np_segs.shape"
      ],
      "execution_count": null,
      "outputs": []
    },
    {
      "cell_type": "code",
      "metadata": {
        "id": "LD_gC3cWKK6v"
      },
      "source": [
        "import numpy as np\n",
        "\n",
        "from sklearn.linear_model import LinearRegression\n",
        "from sklearn.pipeline import Pipeline\n",
        "from sklearn.preprocessing import StandardScaler\n",
        "\n",
        "from lsml.data.dim2 import hamburger\n",
        "from lsml import LevelSetMachineLearning\n",
        "from lsml.feature import get_basic_image_features, get_basic_shape_features\n",
        "from lsml.initializer import RandomBallInitializer\n",
        "\n",
        "\n",
        "random_state = np.random.RandomState(1234)\n",
        "\n",
        "\n",
        "# Create a toy dataset ########################################################\n",
        "\n",
        "# n_samples = 200\n",
        "# imgs, segs = hamburger.make_dataset(\n",
        "#     N=n_samples, random_state=random_state)\n",
        "# print(imgs.shape)\n",
        "\n",
        "# # Loading the datasets\n",
        "\n",
        "n_samples = 15\n",
        "\n",
        "# Set up the model and fit it #################################################\n",
        "\n",
        "lsml = LevelSetMachineLearning(\n",
        "    features=get_basic_image_features() + get_basic_shape_features(),\n",
        "    initializer=RandomBallInitializer(random_state=random_state)\n",
        ")\n",
        "\n",
        "lsml.fit(\n",
        "    'dataset.h5', imgs=imgs, segs=segs,\n",
        "    max_iters=10, random_state=random_state,\n",
        "\n",
        "    # We use a sklearn Pipeline as the regression model which is\n",
        "    # simply a standard scaler followed by linear regression\n",
        "    regression_model_class=Pipeline,\n",
        "    regression_model_kwargs=dict(\n",
        "        steps=[\n",
        "            ('standardscaler', StandardScaler()),\n",
        "            ('linearregressor', LinearRegression()),\n",
        "        ],\n",
        "     )\n",
        ")\n"
      ],
      "execution_count": null,
      "outputs": []
    },
    {
      "cell_type": "code",
      "metadata": {
        "id": "cM1ptQpoWOSn"
      },
      "source": [
        "from lsml import LevelSetMachineLearning\n",
        "from lsml.visualize import interactive2d\n",
        "\n",
        "\n",
        "# Load the model and grab an example from the testing set\n",
        "model = LevelSetMachineLearning.load('./LSML-model.pkl')\n",
        "example = model.testing_data[0]\n",
        "\n",
        "# Segment the example image\n",
        "us = model.segment(img=example.img)\n",
        "\n",
        "# View the example interactively\n",
        "interactive2d(u=us, img=example.img, seg=example.seg)"
      ],
      "execution_count": null,
      "outputs": []
    },
    {
      "cell_type": "code",
      "metadata": {
        "id": "XCyIRXZsWp4w"
      },
      "source": [
        "import matplotlib.pyplot as plt\n",
        "from matplotlib.animation import ImageMagickWriter\n",
        "\n",
        "from lsml import LevelSetMachineLearning\n",
        "from lsml.visualize import plot_iso_contours\n",
        "\n",
        "\n",
        "# Load the model and an example\n",
        "model = LevelSetMachineLearning.load('./LSML-model.pkl')\n",
        "example = model.testing_data[13]\n",
        "\n",
        "\n",
        "# Set up plotting for the movie frames\n",
        "fig, ax = plt.subplots(1, 1, figsize=(2, 2))\n",
        "ax.axis('off')\n",
        "ax.imshow(example.img, cmap=plt.cm.gray, interpolation='bilinear')\n",
        "lines = []\n",
        "\n",
        "\n",
        "# Set up the movie writer and grab the frame at initialization\n",
        "writer = ImageMagickWriter(fps=5)\n",
        "writer.setup(fig, 'evolution.gif', 100)\n",
        "writer.grab_frame()\n",
        "\n",
        "\n",
        "# Define the callback function to be used during segmentation evolution\n",
        "def update_movie(i, u):\n",
        "\n",
        "    if i % 10 != 0:\n",
        "        return\n",
        "\n",
        "    for line in lines:\n",
        "        line.remove()\n",
        "    lines.clear()\n",
        "\n",
        "    lines.extend(\n",
        "        plot_iso_contours(ax, u, value=0, c='b')\n",
        "    )\n",
        "    ax.set_title(\"Iteration: {:d}\".format(i))\n",
        "\n",
        "    writer.grab_frame()\n",
        "\n",
        "\n",
        "us = model.segment(img=example.img, on_iterate=[update_movie], verbose=True)\n",
        "\n",
        "# Close out the movie writing\n",
        "writer.finish()"
      ],
      "execution_count": null,
      "outputs": []
    }
  ]
}