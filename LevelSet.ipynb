{
  "nbformat": 4,
  "nbformat_minor": 0,
  "metadata": {
    "colab": {
      "name": "LevelSet.ipynb",
      "provenance": [],
      "collapsed_sections": [],
      "mount_file_id": "1UrBD0ocoeP_ak4FAzqXpdDLT-B1oxbJ-",
      "authorship_tag": "ABX9TyO7lwp74Xo1wUH/Jd9HoVKQ",
      "include_colab_link": true
    },
    "kernelspec": {
      "name": "python3",
      "display_name": "Python 3"
    },
    "language_info": {
      "name": "python"
    },
    "accelerator": "GPU"
  },
  "cells": [
    {
      "cell_type": "markdown",
      "metadata": {
        "id": "view-in-github",
        "colab_type": "text"
      },
      "source": [
        "<a href=\"https://colab.research.google.com/github/AminPA/Matlab2020-10/blob/main/LevelSet.ipynb\" target=\"_parent\"><img src=\"https://colab.research.google.com/assets/colab-badge.svg\" alt=\"Open In Colab\"/></a>"
      ]
    },
    {
      "cell_type": "code",
      "metadata": {
        "colab": {
          "base_uri": "https://localhost:8080/"
        },
        "id": "ox5Atspuo4iO",
        "outputId": "728109df-c88c-464c-fe1a-327fa288e8f8"
      },
      "source": [
        "print(\"hello\")"
      ],
      "execution_count": 1,
      "outputs": [
        {
          "output_type": "stream",
          "text": [
            "hello\n"
          ],
          "name": "stdout"
        }
      ]
    },
    {
      "cell_type": "code",
      "metadata": {
        "id": "NQlw6CJC1Nvu",
        "colab": {
          "base_uri": "https://localhost:8080/"
        },
        "outputId": "d2420f0b-075e-49f7-8d31-c41f0a872c88"
      },
      "source": [
        "pip install lsml"
      ],
      "execution_count": 2,
      "outputs": [
        {
          "output_type": "stream",
          "text": [
            "Collecting lsml\n",
            "\u001b[?25l  Downloading https://files.pythonhosted.org/packages/8c/0d/60456a7db4ae5e030ed43a0e407c5df1e643d52ba8064ae80d24bc372b91/lsml-0.0.1-cp37-cp37m-manylinux1_x86_64.whl (70kB)\n",
            "\r\u001b[K     |████▋                           | 10kB 20.1MB/s eta 0:00:01\r\u001b[K     |█████████▎                      | 20kB 27.0MB/s eta 0:00:01\r\u001b[K     |█████████████▉                  | 30kB 21.1MB/s eta 0:00:01\r\u001b[K     |██████████████████▌             | 40kB 24.7MB/s eta 0:00:01\r\u001b[K     |███████████████████████         | 51kB 24.1MB/s eta 0:00:01\r\u001b[K     |███████████████████████████▊    | 61kB 26.7MB/s eta 0:00:01\r\u001b[K     |████████████████████████████████| 71kB 7.6MB/s \n",
            "\u001b[?25hRequirement already satisfied: scikit-learn in /usr/local/lib/python3.7/dist-packages (from lsml) (0.22.2.post1)\n",
            "Requirement already satisfied: scikit-image in /usr/local/lib/python3.7/dist-packages (from lsml) (0.16.2)\n",
            "Collecting scikit-fmm\n",
            "\u001b[?25l  Downloading https://files.pythonhosted.org/packages/b6/dd/d926f80cb1d50f0614556001338268827a47c6d69486ee3f98947bc3dc24/scikit-fmm-2021.2.2.tar.gz (419kB)\n",
            "\u001b[K     |████████████████████████████████| 419kB 12.5MB/s \n",
            "\u001b[?25hRequirement already satisfied: h5py in /usr/local/lib/python3.7/dist-packages (from lsml) (2.10.0)\n",
            "Requirement already satisfied: matplotlib in /usr/local/lib/python3.7/dist-packages (from lsml) (3.2.2)\n",
            "Requirement already satisfied: numpy in /usr/local/lib/python3.7/dist-packages (from lsml) (1.19.5)\n",
            "Requirement already satisfied: scipy in /usr/local/lib/python3.7/dist-packages (from lsml) (1.4.1)\n",
            "Requirement already satisfied: joblib>=0.11 in /usr/local/lib/python3.7/dist-packages (from scikit-learn->lsml) (1.0.1)\n",
            "Requirement already satisfied: PyWavelets>=0.4.0 in /usr/local/lib/python3.7/dist-packages (from scikit-image->lsml) (1.1.1)\n",
            "Requirement already satisfied: imageio>=2.3.0 in /usr/local/lib/python3.7/dist-packages (from scikit-image->lsml) (2.4.1)\n",
            "Requirement already satisfied: networkx>=2.0 in /usr/local/lib/python3.7/dist-packages (from scikit-image->lsml) (2.5)\n",
            "Requirement already satisfied: pillow>=4.3.0 in /usr/local/lib/python3.7/dist-packages (from scikit-image->lsml) (7.1.2)\n",
            "Requirement already satisfied: six in /usr/local/lib/python3.7/dist-packages (from h5py->lsml) (1.15.0)\n",
            "Requirement already satisfied: python-dateutil>=2.1 in /usr/local/lib/python3.7/dist-packages (from matplotlib->lsml) (2.8.1)\n",
            "Requirement already satisfied: pyparsing!=2.0.4,!=2.1.2,!=2.1.6,>=2.0.1 in /usr/local/lib/python3.7/dist-packages (from matplotlib->lsml) (2.4.7)\n",
            "Requirement already satisfied: kiwisolver>=1.0.1 in /usr/local/lib/python3.7/dist-packages (from matplotlib->lsml) (1.3.1)\n",
            "Requirement already satisfied: cycler>=0.10 in /usr/local/lib/python3.7/dist-packages (from matplotlib->lsml) (0.10.0)\n",
            "Requirement already satisfied: decorator>=4.3.0 in /usr/local/lib/python3.7/dist-packages (from networkx>=2.0->scikit-image->lsml) (4.4.2)\n",
            "Building wheels for collected packages: scikit-fmm\n",
            "  Building wheel for scikit-fmm (setup.py) ... \u001b[?25l\u001b[?25hdone\n",
            "  Created wheel for scikit-fmm: filename=scikit_fmm-2021.2.2-cp37-cp37m-linux_x86_64.whl size=196599 sha256=39484b1a62b6cd16a13cdd8df39a234b0430f7757ced4a4e25369352bbdf1f19\n",
            "  Stored in directory: /root/.cache/pip/wheels/86/5e/cb/4acf0bc71b46618ab7761d4b603227f29e56a3ec4ff2f64844\n",
            "Successfully built scikit-fmm\n",
            "Installing collected packages: scikit-fmm, lsml\n",
            "Successfully installed lsml-0.0.1 scikit-fmm-2021.2.2\n"
          ],
          "name": "stdout"
        }
      ]
    },
    {
      "cell_type": "code",
      "metadata": {
        "colab": {
          "base_uri": "https://localhost:8080/"
        },
        "id": "jDd-8_DbQoLj",
        "outputId": "12f1a76c-e01f-455f-ccb4-45e0a54f24b0"
      },
      "source": [
        "from google.colab import drive\n",
        "drive.mount('/content/gdrive')"
      ],
      "execution_count": null,
      "outputs": [
        {
          "output_type": "stream",
          "text": [
            "Mounted at /content/gdrive\n"
          ],
          "name": "stdout"
        }
      ]
    },
    {
      "cell_type": "code",
      "metadata": {
        "colab": {
          "base_uri": "https://localhost:8080/"
        },
        "id": "cDnPEJyjk0UA",
        "outputId": "421164ab-246f-4981-d36b-0e04bc84ea66"
      },
      "source": [
        "!pip install pydicom\n",
        "import pydicom\n",
        "import matplotlib.pyplot as plt\n",
        "import numpy as np"
      ],
      "execution_count": null,
      "outputs": [
        {
          "output_type": "stream",
          "text": [
            "Requirement already satisfied: pydicom in /usr/local/lib/python3.7/dist-packages (2.1.2)\n"
          ],
          "name": "stdout"
        }
      ]
    },
    {
      "cell_type": "code",
      "metadata": {
        "colab": {
          "base_uri": "https://localhost:8080/"
        },
        "id": "JY88-uW8c74b",
        "outputId": "4b7cf727-51e4-4b86-9018-9d63f4f5c05e"
      },
      "source": [
        "n_samples = 15\n",
        "DATADIR = '/content/gdrive/MyDrive/Pittsbergh/TestPatientsForAmin/Patient11/ems11diastole/Images/'\n",
        "# imgs = np.zeros((16,256,256))\n",
        "#To read all the photos\n",
        "imgs = []\n",
        "import glob, os\n",
        "os.chdir(DATADIR)\n",
        "# i = 0\n",
        "for file in glob.glob(\"*.IMA\"):\n",
        "  # imgs[i,:,:] = pydicom.read_file(file).pixel_array\n",
        "  # i+=1\n",
        "  imgs.append(pydicom.read_file(file).pixel_array)\n",
        "\n",
        "\n",
        "imgs = np.array(imgs)\n",
        "imgs = imgs.astype(float)\n",
        "\n",
        "\n",
        "imgs.shape\n",
        "\n",
        "# plt.imshow(imgs.pixel_array)\n",
        "# plt.show()"
      ],
      "execution_count": null,
      "outputs": [
        {
          "output_type": "execute_result",
          "data": {
            "text/plain": [
              "(16, 256, 256)"
            ]
          },
          "metadata": {
            "tags": []
          },
          "execution_count": 5
        }
      ]
    },
    {
      "cell_type": "code",
      "metadata": {
        "id": "VaSDDdzTIjvR",
        "colab": {
          "base_uri": "https://localhost:8080/"
        },
        "outputId": "17aedc42-7e44-4e6c-c727-8bde67e6dee2"
      },
      "source": [
        "!pip install SimpleITK"
      ],
      "execution_count": null,
      "outputs": [
        {
          "output_type": "stream",
          "text": [
            "Requirement already satisfied: SimpleITK in /usr/local/lib/python3.7/dist-packages (2.0.2)\n"
          ],
          "name": "stdout"
        }
      ]
    },
    {
      "cell_type": "code",
      "metadata": {
        "id": "2EsSh5RXJaK1",
        "colab": {
          "base_uri": "https://localhost:8080/",
          "height": 180
        },
        "outputId": "25ece2ce-8af0-4d8f-edcd-81394b7b8bc1"
      },
      "source": [
        "import SimpleITK\n",
        "\n",
        "def sitk_show(img, title=None, margin=0.0, dpi=40):\n",
        "    nda = SimpleITK.GetArrayFromImage(img)\n",
        "    # spacing = img.GetSpacing()\n",
        "    figsize = (1 + margin) * nda.shape[0] / dpi, (1 + margin) * nda.shape[1] / dpi\n",
        "    # extent = (0, nda.shape[1]*spacing[1], nda.shape[0]*spacing[0], 0)\n",
        "    extent = (0, nda.shape[1], nda.shape[0], 0)\n",
        "    fig = plt.figure(figsize=figsize, dpi=dpi)\n",
        "    ax = fig.add_axes([margin, margin, 1 - 2 * margin, 1 - 2 * margin])\n",
        " \n",
        "    plt.set_cmap(\"gray\")\n",
        "    ax.imshow(nda, extent=extent, interpolation=None)\n",
        " \n",
        "    if title:\n",
        "        plt.title(title)\n",
        " \n",
        "    plt.show()\n",
        "\n",
        "# Paths to the .mhd files\n",
        "DATADIRS = '/content/gdrive/MyDrive/Pittsbergh/TestPatientsForAmin/Patient11/ems11diastole/Segmnetations.mha'\n",
        "\n",
        " \n",
        "# Slice index to visualize with 'sitk_show'\n",
        "idxSlice = 5\n",
        " \n",
        "# int label to assign to the segmented gray matter\n",
        "labelGrayMatter = 1\n",
        " \n",
        "segs = SimpleITK.ReadImage(DATADIRS)\n",
        "\n",
        "sitk_show(SimpleITK.Tile(segs[:, :, idxSlice],\n",
        "                         segs[:, :, idxSlice],\n",
        "                             (2, 1, 0)))\n",
        "segs = SimpleITK.GetArrayFromImage(segs)\n",
        "\n",
        "# segs = np.swapaxes(2,0,1)\n",
        "\n",
        "segs = segs.astype(bool)\n",
        "\n",
        "print(np.max(segs[5]),  'hello')"
      ],
      "execution_count": null,
      "outputs": [
        {
          "output_type": "display_data",
          "data": {
            "image/png": "[encoded data removed]",
            "text/plain": [
              "<Figure size 256x512 with 1 Axes>"
            ]
          },
          "metadata": {
            "tags": [],
            "needs_background": "light"
          }
        },
        {
          "output_type": "stream",
          "text": [
            "True hello\n"
          ],
          "name": "stdout"
        }
      ]
    },
    {
      "cell_type": "code",
      "metadata": {
        "id": "LD_gC3cWKK6v",
        "colab": {
          "base_uri": "https://localhost:8080/",
          "height": 375
        },
        "outputId": "07ff591b-20fd-4791-fc98-ebab9f3b0f73"
      },
      "source": [
        "import numpy as np\n",
        "\n",
        "from sklearn.linear_model import LinearRegression\n",
        "from sklearn.pipeline import Pipeline\n",
        "from sklearn.preprocessing import StandardScaler\n",
        "\n",
        "from lsml.data.dim2 import hamburger\n",
        "from lsml import LevelSetMachineLearning\n",
        "from lsml.feature import get_basic_image_features, get_basic_shape_features\n",
        "from lsml.initializer import RandomBallInitializer\n",
        "\n",
        "\n",
        "random_state = np.random.RandomState(1234)\n",
        "\n",
        "\n",
        "# Create a toy dataset ########################################################\n",
        "\n",
        "n_samples = 200\n",
        "imgs1, segs1 = hamburger.make_dataset(\n",
        "    N=n_samples, random_state=random_state)\n",
        "print(imgs1.shape, segs1.shape)\n",
        "print(np.max(segs1[5]))\n",
        "\n",
        "\n",
        "n_samples = 16\n",
        "\n",
        "# Set up the model and fit it #################################################\n",
        "\n",
        "lsml = LevelSetMachineLearning(\n",
        "    features=get_basic_image_features() + get_basic_shape_features(),\n",
        "    initializer=RandomBallInitializer(random_state=random_state)\n",
        ")\n",
        "\n",
        "lsml.fit(\n",
        "    'dataset2.h5', imgs=imgs, segs=segs,\n",
        "    max_iters=10, random_state=random_state,\n",
        "\n",
        "    # We use a sklearn Pipeline as the regression model which is\n",
        "    # simply a standard scaler followed by linear regression\n",
        "    regression_model_class=Pipeline,\n",
        "    regression_model_kwargs=dict(\n",
        "        steps=[\n",
        "            ('standardscaler', StandardScaler()),\n",
        "            ('linearregressor', LinearRegression()),\n",
        "        ],\n",
        "     )\n",
        ")"
      ],
      "execution_count": null,
      "outputs": [
        {
          "output_type": "error",
          "ename": "ValueError",
          "evalue": "ignored",
          "traceback": [
            "\u001b[0;31m---------------------------------------------------------------------------\u001b[0m",
            "\u001b[0;31mValueError\u001b[0m                                Traceback (most recent call last)",
            "\u001b[0;32m<ipython-input-12-9f431b59f7e6>\u001b[0m in \u001b[0;36m<module>\u001b[0;34m()\u001b[0m\n\u001b[1;32m     42\u001b[0m         steps=[\n\u001b[1;32m     43\u001b[0m             \u001b[0;34m(\u001b[0m\u001b[0;34m'standardscaler'\u001b[0m\u001b[0;34m,\u001b[0m \u001b[0mStandardScaler\u001b[0m\u001b[0;34m(\u001b[0m\u001b[0;34m)\u001b[0m\u001b[0;34m)\u001b[0m\u001b[0;34m,\u001b[0m\u001b[0;34m\u001b[0m\u001b[0;34m\u001b[0m\u001b[0m\n\u001b[0;32m---> 44\u001b[0;31m             \u001b[0;34m(\u001b[0m\u001b[0;34m'linearregressor'\u001b[0m\u001b[0;34m,\u001b[0m \u001b[0mLinearRegression\u001b[0m\u001b[0;34m(\u001b[0m\u001b[0;34m)\u001b[0m\u001b[0;34m)\u001b[0m\u001b[0;34m,\u001b[0m\u001b[0;34m\u001b[0m\u001b[0;34m\u001b[0m\u001b[0m\n\u001b[0m\u001b[1;32m     45\u001b[0m         ],\n\u001b[1;32m     46\u001b[0m      )\n",
            "\u001b[0;32m/usr/local/lib/python3.7/dist-packages/lsml/core/model.py\u001b[0m in \u001b[0;36mfit\u001b[0;34m(self, data_filename, regression_model_class, regression_model_kwargs, balance_regression_targets, datasets_split, dx, imgs, max_iters, random_state, save_filename, seeds, segs, step, subset_size, temp_data_dir, validation_history_len, validation_history_tol, redirect_stdout_to_logfile)\u001b[0m\n\u001b[1;32m    219\u001b[0m         \u001b[0mkwargs\u001b[0m \u001b[0;34m=\u001b[0m \u001b[0mlocals\u001b[0m\u001b[0;34m(\u001b[0m\u001b[0;34m)\u001b[0m\u001b[0;34m\u001b[0m\u001b[0;34m\u001b[0m\u001b[0m\n\u001b[1;32m    220\u001b[0m         \u001b[0mkwargs\u001b[0m\u001b[0;34m[\u001b[0m\u001b[0;34m'model'\u001b[0m\u001b[0;34m]\u001b[0m \u001b[0;34m=\u001b[0m \u001b[0mkwargs\u001b[0m\u001b[0;34m.\u001b[0m\u001b[0mpop\u001b[0m\u001b[0;34m(\u001b[0m\u001b[0;34m'self'\u001b[0m\u001b[0;34m)\u001b[0m\u001b[0;34m\u001b[0m\u001b[0;34m\u001b[0m\u001b[0m\n\u001b[0;32m--> 221\u001b[0;31m         \u001b[0mself\u001b[0m\u001b[0;34m.\u001b[0m\u001b[0mfit_job_handler\u001b[0m \u001b[0;34m=\u001b[0m \u001b[0mFitJobHandler\u001b[0m\u001b[0;34m(\u001b[0m\u001b[0;34m**\u001b[0m\u001b[0mkwargs\u001b[0m\u001b[0;34m)\u001b[0m\u001b[0;34m\u001b[0m\u001b[0;34m\u001b[0m\u001b[0m\n\u001b[0m\u001b[1;32m    222\u001b[0m \u001b[0;34m\u001b[0m\u001b[0m\n\u001b[1;32m    223\u001b[0m         \u001b[0;31m# Set up the level sets according the initializer functions\u001b[0m\u001b[0;34m\u001b[0m\u001b[0;34m\u001b[0m\u001b[0;34m\u001b[0m\u001b[0m\n",
            "\u001b[0;32m/usr/local/lib/python3.7/dist-packages/lsml/core/fit_job_handler.py\u001b[0m in \u001b[0;36m__init__\u001b[0;34m(self, balance_regression_targets, data_filename, datasets_split, dx, imgs, max_iters, model, random_state, regression_model_class, regression_model_kwargs, save_filename, seeds, segs, step, subset_size, temp_data_dir, validation_history_len, validation_history_tol, redirect_stdout_to_logfile)\u001b[0m\n\u001b[1;32m    146\u001b[0m         \u001b[0;31m# Create the manager for the datasets\u001b[0m\u001b[0;34m\u001b[0m\u001b[0;34m\u001b[0m\u001b[0;34m\u001b[0m\u001b[0m\n\u001b[1;32m    147\u001b[0m         self.datasets_handler = DatasetsHandler(\n\u001b[0;32m--> 148\u001b[0;31m             h5_file=data_filename, imgs=imgs, segs=segs, dx=dx)\n\u001b[0m\u001b[1;32m    149\u001b[0m \u001b[0;34m\u001b[0m\u001b[0m\n\u001b[1;32m    150\u001b[0m         \u001b[0;31m# Split the examples into corresponding datasets\u001b[0m\u001b[0;34m\u001b[0m\u001b[0;34m\u001b[0m\u001b[0;34m\u001b[0m\u001b[0m\n",
            "\u001b[0;32m/usr/local/lib/python3.7/dist-packages/lsml/core/datasets_handler.py\u001b[0m in \u001b[0;36m__init__\u001b[0;34m(self, h5_file, imgs, segs, dx, compress)\u001b[0m\n\u001b[1;32m     82\u001b[0m             \u001b[0;31m# Perform the conversion to hdf5\u001b[0m\u001b[0;34m\u001b[0m\u001b[0;34m\u001b[0m\u001b[0;34m\u001b[0m\u001b[0m\n\u001b[1;32m     83\u001b[0m             self.convert_to_hdf5(\n\u001b[0;32m---> 84\u001b[0;31m                 imgs=imgs, segs=segs, dx=dx, compress=compress)\n\u001b[0m\u001b[1;32m     85\u001b[0m \u001b[0;34m\u001b[0m\u001b[0m\n\u001b[1;32m     86\u001b[0m         \u001b[0;32mwith\u001b[0m \u001b[0mh5py\u001b[0m\u001b[0;34m.\u001b[0m\u001b[0mFile\u001b[0m\u001b[0;34m(\u001b[0m\u001b[0mself\u001b[0m\u001b[0;34m.\u001b[0m\u001b[0mh5_file\u001b[0m\u001b[0;34m,\u001b[0m \u001b[0mmode\u001b[0m\u001b[0;34m=\u001b[0m\u001b[0;34m'r'\u001b[0m\u001b[0;34m)\u001b[0m \u001b[0;32mas\u001b[0m \u001b[0mhf\u001b[0m\u001b[0;34m:\u001b[0m\u001b[0;34m\u001b[0m\u001b[0;34m\u001b[0m\u001b[0m\n",
            "\u001b[0;32m/usr/local/lib/python3.7/dist-packages/lsml/core/datasets_handler.py\u001b[0m in \u001b[0;36mconvert_to_hdf5\u001b[0;34m(self, imgs, segs, dx, compress)\u001b[0m\n\u001b[1;32m    192\u001b[0m             \u001b[0;31m# Compute the signed distance transform of the ground-truth\u001b[0m\u001b[0;34m\u001b[0m\u001b[0;34m\u001b[0m\u001b[0;34m\u001b[0m\u001b[0m\n\u001b[1;32m    193\u001b[0m             \u001b[0;31m# segmentation and store it.\u001b[0m\u001b[0;34m\u001b[0m\u001b[0;34m\u001b[0m\u001b[0;34m\u001b[0m\u001b[0m\n\u001b[0;32m--> 194\u001b[0;31m             \u001b[0mdist\u001b[0m \u001b[0;34m=\u001b[0m \u001b[0mskfmm\u001b[0m\u001b[0;34m.\u001b[0m\u001b[0mdistance\u001b[0m\u001b[0;34m(\u001b[0m\u001b[0;36m2\u001b[0m\u001b[0;34m*\u001b[0m\u001b[0msegs\u001b[0m\u001b[0;34m[\u001b[0m\u001b[0mi\u001b[0m\u001b[0;34m]\u001b[0m\u001b[0;34m.\u001b[0m\u001b[0mastype\u001b[0m\u001b[0;34m(\u001b[0m\u001b[0mnumpy\u001b[0m\u001b[0;34m.\u001b[0m\u001b[0mfloat\u001b[0m\u001b[0;34m)\u001b[0m\u001b[0;34m-\u001b[0m\u001b[0;36m1\u001b[0m\u001b[0;34m,\u001b[0m \u001b[0mdx\u001b[0m\u001b[0;34m=\u001b[0m\u001b[0mdx\u001b[0m\u001b[0;34m[\u001b[0m\u001b[0mi\u001b[0m\u001b[0;34m]\u001b[0m\u001b[0;34m)\u001b[0m\u001b[0;34m\u001b[0m\u001b[0;34m\u001b[0m\u001b[0m\n\u001b[0m\u001b[1;32m    195\u001b[0m             g.create_dataset(DISTANCE_TRANSFORM_KEY,\n\u001b[1;32m    196\u001b[0m                              data=dist, compression=compress_method)\n",
            "\u001b[0;32m/usr/local/lib/python3.7/dist-packages/skfmm/pfmm.py\u001b[0m in \u001b[0;36mdistance\u001b[0;34m(phi, dx, self_test, order, narrow, periodic)\u001b[0m\n\u001b[1;32m    109\u001b[0m                         \u001b[0mpre_process_args\u001b[0m\u001b[0;34m(\u001b[0m\u001b[0mphi\u001b[0m\u001b[0;34m,\u001b[0m \u001b[0mdx\u001b[0m\u001b[0;34m,\u001b[0m \u001b[0mnarrow\u001b[0m\u001b[0;34m,\u001b[0m \u001b[0mperiodic\u001b[0m\u001b[0;34m)\u001b[0m\u001b[0;34m\u001b[0m\u001b[0;34m\u001b[0m\u001b[0m\n\u001b[1;32m    110\u001b[0m     d = cFastMarcher(phi, dx, flag, None, ext_mask,\n\u001b[0;32m--> 111\u001b[0;31m                      int(self_test), DISTANCE, order, narrow, periodic)\n\u001b[0m\u001b[1;32m    112\u001b[0m     \u001b[0md\u001b[0m \u001b[0;34m=\u001b[0m \u001b[0mpost_process_result\u001b[0m\u001b[0;34m(\u001b[0m\u001b[0md\u001b[0m\u001b[0;34m)\u001b[0m\u001b[0;34m\u001b[0m\u001b[0;34m\u001b[0m\u001b[0m\n\u001b[1;32m    113\u001b[0m     \u001b[0;32mreturn\u001b[0m \u001b[0md\u001b[0m\u001b[0;34m\u001b[0m\u001b[0;34m\u001b[0m\u001b[0m\n",
            "\u001b[0;31mValueError\u001b[0m: the array phi contains no zero contour (no zero level set)"
          ]
        }
      ]
    },
    {
      "cell_type": "code",
      "metadata": {
        "id": "cM1ptQpoWOSn"
      },
      "source": [
        "from lsml import LevelSetMachineLearning\n",
        "from lsml.visualize import interactive2d\n",
        "\n",
        "\n",
        "# Load the model and grab an example from the testing set\n",
        "model = LevelSetMachineLearning.load('./LSML-model.pkl')\n",
        "example = model.testing_data[0]\n",
        "\n",
        "# Segment the example image\n",
        "us = model.segment(img=example.img)\n",
        "\n",
        "# View the example interactively\n",
        "interactive2d(u=us, img=example.img, seg=example.seg)"
      ],
      "execution_count": null,
      "outputs": []
    },
    {
      "cell_type": "code",
      "metadata": {
        "id": "XCyIRXZsWp4w"
      },
      "source": [
        "import matplotlib.pyplot as plt\n",
        "from matplotlib.animation import ImageMagickWriter\n",
        "\n",
        "from lsml import LevelSetMachineLearning\n",
        "from lsml.visualize import plot_iso_contours\n",
        "\n",
        "\n",
        "# Load the model and an example\n",
        "model = LevelSetMachineLearning.load('./LSML-model.pkl')\n",
        "example = model.testing_data[13]\n",
        "\n",
        "\n",
        "# Set up plotting for the movie frames\n",
        "fig, ax = plt.subplots(1, 1, figsize=(2, 2))\n",
        "ax.axis('off')\n",
        "ax.imshow(example.img, cmap=plt.cm.gray, interpolation='bilinear')\n",
        "lines = []\n",
        "\n",
        "\n",
        "# Set up the movie writer and grab the frame at initialization\n",
        "writer = ImageMagickWriter(fps=5)\n",
        "writer.setup(fig, 'evolution.gif', 100)\n",
        "writer.grab_frame()\n",
        "\n",
        "\n",
        "# Define the callback function to be used during segmentation evolution\n",
        "def update_movie(i, u):\n",
        "\n",
        "    if i % 10 != 0:\n",
        "        return\n",
        "\n",
        "    for line in lines:\n",
        "        line.remove()\n",
        "    lines.clear()\n",
        "\n",
        "    lines.extend(\n",
        "        plot_iso_contours(ax, u, value=0, c='b')\n",
        "    )\n",
        "    ax.set_title(\"Iteration: {:d}\".format(i))\n",
        "\n",
        "    writer.grab_frame()\n",
        "\n",
        "\n",
        "us = model.segment(img=example.img, on_iterate=[update_movie], verbose=True)\n",
        "\n",
        "# Close out the movie writing\n",
        "writer.finish()"
      ],
      "execution_count": null,
      "outputs": []
    }
  ]
}